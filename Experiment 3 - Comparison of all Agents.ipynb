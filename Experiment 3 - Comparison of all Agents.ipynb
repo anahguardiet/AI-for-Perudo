{
 "cells": [
  {
   "cell_type": "code",
   "execution_count": 1,
   "metadata": {},
   "outputs": [],
   "source": [
    "from IPython.display import clear_output\n",
    "import random as rnd\n",
    "import numpy as np\n",
    "from scipy import stats\n",
    "import matplotlib.pyplot as plt \n",
    "import time\n",
    "import math\n",
    "\n",
    "\n",
    "#import Rounds and Game creating classes\n",
    "%run RollsPlayersRounds.ipynb\n",
    "#import Rule based Agent\n",
    "%run RuleBasedAgent.ipynb\n",
    "#import Monte Carlo Random Rollout Player\n",
    "%run MCTSAgent.ipynb\n",
    "#import Probabilistic\n",
    "%run ProbabilisticAgent.ipynb\n",
    "    \n",
    "    \n",
    "#Scalar and Scoring\n",
    "scalar = 2\n",
    "scoring = [-1,0,0]"
   ]
  },
  {
   "cell_type": "markdown",
   "metadata": {},
   "source": [
    "# Experiment 3 - Comparison of all Agents\n",
    "## 1) Rounds"
   ]
  },
  {
   "cell_type": "code",
   "execution_count": 28,
   "metadata": {},
   "outputs": [
    {
     "name": "stdout",
     "output_type": "stream",
     "text": [
      "{'Martha': 116, 'Lorenzo': 104, 'Maria': 84, 'Manuel': 96}\n"
     ]
    }
   ],
   "source": [
    "losses = {}\n",
    "Game = full_game(4, Human=False, shuffle = False)\n",
    "for x in Game.Players:\n",
    "    losses[x] = 0\n",
    "for i in range(400):\n",
    "    first_player = rnd.choice(Game.Players)\n",
    "    roundd = rounds(Game.diceState, Game.Players, first_player, Game.human, shuffle=True)\n",
    "    t0 = time.time()\n",
    "    while roundd.last != 'Dudo' and roundd.last != 'Calza':\n",
    "\n",
    "        # Play a round\n",
    "        if roundd.player == 'Martha':\n",
    "            agent = probabilistic_agent(roundd.total_dice, roundd.rolls[roundd.player], \n",
    "                                        last_bid = roundd.last)\n",
    "            bid = agent.make_bid()\n",
    "        elif roundd.player == 'Lorenzo':\n",
    "            #Random Rollout\n",
    "            dice_state_opponents = Game.diceState.copy()\n",
    "            del dice_state_opponents['Lorenzo']\n",
    "            agent = MCTSPlayer(MOVES,scalar,len(roundd.Players), roundd.rolls[roundd.player], \n",
    "                                 roundd.total_dice,roundd.Players, roundd.player, dice_state_opponents,\n",
    "                               roundd.history,scoring, previous_bid = roundd.last,\n",
    "                               Random = True, smart_rollouts = True)\n",
    "            bid = agent.chooseMove()\n",
    "        elif roundd.player == 'Maria':\n",
    "            agent = rule_based_agent(roundd.rolls[roundd.player],roundd.last, \n",
    "                                     roundd.history, roundd.total_dice, roundd.Players)\n",
    "            bid = agent.make_bid()\n",
    "        elif roundd.player == 'Manuel':\n",
    "            #observer agent rollout\n",
    "            dice_state_opponents = Game.diceState.copy()\n",
    "            del dice_state_opponents['Manuel']\n",
    "            agent = MCTSPlayer(MOVES,scalar,len(roundd.Players), roundd.rolls[roundd.player], \n",
    "                                 roundd.total_dice,roundd.Players, roundd.player, dice_state_opponents,\n",
    "                               roundd.history, scoring,previous_bid = roundd.last,\n",
    "                               Random = False , smart_rollouts = True)\n",
    "            bid = agent.chooseMove()\n",
    "            \n",
    "    \n",
    "        roundd.last = bid\n",
    "        roundd.history.append(bid)\n",
    "\n",
    "        #Analyse terminal bid and update dice accordingly\n",
    "        if roundd.last == 'Dudo': \n",
    "            t1 = time.time()\n",
    "            print ('time: ', t1-t0)\n",
    "            loser_winner = roundd.call()\n",
    "            for i in roundd.Players:\n",
    "                if loser_winner[0] == i:\n",
    "                    losses[i] +=1\n",
    "            break\n",
    "\n",
    "        elif roundd.last == 'Calza':\n",
    "            t1= time.time()\n",
    "            print ('time: ', t1-t0)\n",
    "            loser_winner = roundd.call(Dudo = False, Calza = True)\n",
    "            if loser_winner[1] == 1:\n",
    "                for i in roundd.Players:\n",
    "                    if loser_winner[0] == i:\n",
    "                        losses[i] -=1\n",
    "            else:\n",
    "                for i in roundd.Players:\n",
    "                    if loser_winner[0] == i:\n",
    "                        losses[i] +=1\n",
    "            break        \n",
    "        else:\n",
    "            roundd.next_player()\n",
    "\n",
    "clear_output()\n",
    "print (losses)"
   ]
  },
  {
   "cell_type": "code",
   "execution_count": 30,
   "metadata": {},
   "outputs": [
    {
     "data": {
      "image/png": "[encoded data removed]",
      "text/plain": [
       "<Figure size 432x288 with 1 Axes>"
      ]
     },
     "metadata": {
      "needs_background": "light"
     },
     "output_type": "display_data"
    }
   ],
   "source": [
    "names = [n for n in losses]\n",
    "x = ['Prob1', 'MCTS-Random', 'Observer1', 'MCTS-Observer']\n",
    "y_pos = np.arange(len(x))\n",
    "performance = []\n",
    "for i in names:\n",
    "    performance.append(losses[i])\n",
    "plt.bar(y_pos, performance, align='center', alpha=0.5)\n",
    "plt.xticks(y_pos, x)\n",
    "plt.ylabel('Lost Rounds in 400')\n",
    "plt.title('Random Seating')\n",
    "plt.savefig('Experiment 3a1')\n",
    "plt.show()"
   ]
  },
  {
   "cell_type": "markdown",
   "metadata": {},
   "source": [
    "## 2) Full Games"
   ]
  },
  {
   "cell_type": "code",
   "execution_count": 52,
   "metadata": {},
   "outputs": [
    {
     "name": "stdout",
     "output_type": "stream",
     "text": [
      "{'Martha': 29, 'Lorenzo': 50, 'Maria': 51, 'Manuel': 70}\n"
     ]
    }
   ],
   "source": [
    "wins = {}\n",
    "wins['Martha']=wins['Lorenzo']=wins['Maria']=wins['Manuel'] = 0\n",
    "for i in range(200):\n",
    "    Game = full_game(4, Human=False, shuffle = True)\n",
    "    while len(Game.Players) > 1:\n",
    "        roundd = rounds(Game.diceState, Game.Players, Game.player, Game.human, shuffle=False)\n",
    "        while roundd.last != 'Dudo' and roundd.last != 'Calza':\n",
    "        # Play a round\n",
    "            if roundd.player == 'Martha':\n",
    "                agent = probabilistic_agent(roundd.total_dice, roundd.rolls[roundd.player], \n",
    "                                            last_bid = roundd.last)\n",
    "                bid = agent.make_bid()\n",
    "            elif roundd.player == 'Lorenzo':\n",
    "                #Random Rollouts\n",
    "                dice_state_opponents = Game.diceState.copy()\n",
    "                del dice_state_opponents['Lorenzo']\n",
    "                agent = MCTSPlayer(MOVES,scalar,len(roundd.Players), roundd.rolls[roundd.player], \n",
    "                                 roundd.total_dice,roundd.Players, roundd.player, dice_state_opponents,\n",
    "                               roundd.history,scoring, previous_bid = roundd.last,\n",
    "                               Random = True, smart_rollouts = True)\n",
    "                bid = agent.chooseMove()\n",
    "            elif roundd.player == 'Maria':\n",
    "                agent = rule_based_agent(roundd.rolls[roundd.player],roundd.last, \n",
    "                                     roundd.history, roundd.total_dice, roundd.Players)\n",
    "                bid = agent.make_bid()\n",
    "            elif roundd.player == 'Manuel':\n",
    "                #Observer Rollout\n",
    "                dice_state_opponents = Game.diceState.copy()\n",
    "                del dice_state_opponents['Manuel']\n",
    "                agent = MCTSPlayer(MOVES,scalar,len(roundd.Players), roundd.rolls[roundd.player], \n",
    "                                     roundd.total_dice,roundd.Players, roundd.player, dice_state_opponents,\n",
    "                                   roundd.history,scoring, previous_bid = roundd.last,\n",
    "                                   Random = False, smart_rollouts = True)\n",
    "                bid = agent.chooseMove()\n",
    "    \n",
    "\n",
    "            roundd.last = bid\n",
    "            roundd.history.append(bid)\n",
    "\n",
    "            #Analyse terminal bid and update dice accordingly\n",
    "            if roundd.last == 'Dudo': \n",
    "                loser_winner = roundd.call()\n",
    "                Game.update_dice_players(loser_winner[0], loser_winner[1])\n",
    "\n",
    "            elif roundd.last == 'Calza':\n",
    "                loser_winner = roundd.call(Dudo = False, Calza = True)\n",
    "                if loser_winner[1]==1:\n",
    "                    Game.update_dice_players(loser_winner[0], loser_winner[1])\n",
    "                else:\n",
    "                    Game.update_dice_players(loser_winner[0], loser_winner[1])\n",
    "            else:\n",
    "                roundd.next_player()\n",
    "                \n",
    "    if len(Game.Players) == 1:\n",
    "        wins[Game.Players[0]] +=1\n",
    "\n",
    "clear_output()\n",
    "print (wins)\n"
   ]
  },
  {
   "cell_type": "code",
   "execution_count": 53,
   "metadata": {},
   "outputs": [
    {
     "data": {
      "image/png": "[encoded data removed]",
      "text/plain": [
       "<Figure size 432x288 with 1 Axes>"
      ]
     },
     "metadata": {
      "needs_background": "light"
     },
     "output_type": "display_data"
    }
   ],
   "source": [
    "names = [n for n in wins]\n",
    "x = ['Prob1', 'MCTS-Random', 'Observer1', 'MCTS-Observer']\n",
    "y_pos = np.arange(len(x))\n",
    "performance = []\n",
    "for i in names:\n",
    "    performance.append(wins[i])\n",
    "plt.bar(y_pos, performance, align='center', alpha=0.5)\n",
    "plt.xticks(y_pos, x)\n",
    "plt.ylabel('Games won out of 200')\n",
    "plt.title('Fixed Seating Through Each Game')\n",
    "plt.savefig('Experiment 3b1')\n",
    "plt.show()"
   ]
  },
  {
   "cell_type": "code",
   "execution_count": null,
   "metadata": {},
   "outputs": [],
   "source": []
  }
 ],
 "metadata": {
  "kernelspec": {
   "display_name": "Python 3",
   "language": "python",
   "name": "python3"
  },
  "language_info": {
   "codemirror_mode": {
    "name": "ipython",
    "version": 3
   },
   "file_extension": ".py",
   "mimetype": "text/x-python",
   "name": "python",
   "nbconvert_exporter": "python",
   "pygments_lexer": "ipython3",
   "version": "3.7.6"
  }
 },
 "nbformat": 4,
 "nbformat_minor": 4
}
