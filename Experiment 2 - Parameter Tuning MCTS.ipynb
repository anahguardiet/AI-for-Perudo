{
 "cells": [
  {
   "cell_type": "code",
   "execution_count": 3,
   "metadata": {},
   "outputs": [],
   "source": [
    "from IPython.display import clear_output\n",
    "import random as rnd\n",
    "import numpy as np\n",
    "from scipy import stats\n",
    "import matplotlib.pyplot as plt \n",
    "import time\n",
    "import math\n",
    "\n",
    "\n",
    "#import Rounds and Game creating classes\n",
    "%run RollsPlayersRounds.ipynb\n",
    "#import Rule based Agent\n",
    "%run RuleBasedAgent.ipynb\n",
    "#import Monte Carlo Random Rollout Player\n",
    "%run MCTSAgent.ipynb\n",
    "#import Monte Carlo Random Rollout Player\n",
    "%run ProbabilisticAgent.ipynb\n",
    "    "
   ]
  },
  {
   "cell_type": "markdown",
   "metadata": {},
   "source": [
    "# Experiment 2 - Parameter Tuning MCTS\n"
   ]
  },
  {
   "cell_type": "code",
   "execution_count": 97,
   "metadata": {},
   "outputs": [],
   "source": [
    "def experiment2(scalar,scoring, rollouts = 1000, Players = 2, Random = True, \n",
    "                round_no=500, smart_rollouts = False, prob_opponent = True):\n",
    "    losses = {}\n",
    "    wins = {}\n",
    "    t0 = time.time()\n",
    "    Game = full_game(Players, Human=False, shuffle=False)\n",
    "    for i in Game.Players:\n",
    "        losses[i] = 0\n",
    "        wins[i] = 0\n",
    "    for x in range(round_no):\n",
    "        first_player = rnd.choice(Game.Players)\n",
    "        roundd = rounds(Game.diceState, Game.Players, first_player, Game.human, shuffle=True)\n",
    "        while roundd.last != 'Dudo' and roundd.last != 'Calza':\n",
    "\n",
    "            # Play a round\n",
    "            if roundd.player != 'Lorenzo':\n",
    "                if prob_opponent == True:\n",
    "                    agent = probabilistic_agent(roundd.total_dice, roundd.rolls[roundd.player], \n",
    "                                                last_bid = roundd.last)\n",
    "                    bid = agent.make_bid()\n",
    "                else:\n",
    "                    agent = rule_based_agent(roundd.rolls[roundd.player],roundd.last, \n",
    "                                             roundd.history, roundd.total_dice, roundd.Players)\n",
    "                    bid = agent.make_bid()\n",
    "\n",
    "            #Add scoring and scalar!\n",
    "            elif roundd.player == 'Lorenzo':\n",
    "                dice_state_opponents = Game.diceState.copy()\n",
    "                del dice_state_opponents['Lorenzo']\n",
    "                agent = MCTSPlayer(MOVES,scalar,len(Game.Players), roundd.rolls[roundd.player], \n",
    "                                 roundd.total_dice, roundd.Players, roundd.player, \n",
    "                                   dice_state_opponents, roundd.history, scoring,\n",
    "                                   previous_bid = roundd.last, Random = Random,rollouts= rollouts,\n",
    "                                  smart_rollouts = smart_rollouts)\n",
    "\n",
    "                bid = agent.chooseMove()\n",
    "\n",
    "            roundd.last = bid\n",
    "            roundd.history.append(bid)\n",
    "\n",
    "            #Analyse terminal bid and update dice accordingly\n",
    "            if roundd.last == 'Dudo': \n",
    "                loser_winner = roundd.call()\n",
    "                losses[loser_winner[0]] +=1\n",
    "\n",
    "            elif roundd.last == 'Calza':\n",
    "                loser_winner = roundd.call(Dudo = False, Calza = True)\n",
    "                if loser_winner[1] == 1:\n",
    "                    wins[loser_winner[0]] +=1\n",
    "                else:\n",
    "                    losses[loser_winner[0]] +=1\n",
    "            else:\n",
    "                roundd.next_player()\n",
    "                \n",
    "    t1 = time.time()\n",
    "    time_ = t1-t0\n",
    "    return losses,time_"
   ]
  },
  {
   "cell_type": "markdown",
   "metadata": {},
   "source": [
    "# 1) Scalar and Scoring Function\n",
    "\n",
    "### 1.a) Scalar = sqrt(2) and Score = [-10, 0, +1]"
   ]
  },
  {
   "cell_type": "code",
   "execution_count": null,
   "metadata": {},
   "outputs": [],
   "source": [
    "scalar = math.sqrt(2.0)\n",
    "scoring = [-10,0,+1]\n",
    "losses = experiment2(scalar, scoring)[0]\n",
    "names = [n for n in losses]\n",
    "x = ['Prob1', 'MCTS1']\n",
    "y_pos = np.arange(len(x))\n",
    "performance = []\n",
    "for i in names:\n",
    "    performance.append(losses[i])\n",
    "plt.bar(y_pos, performance, align='center', alpha=0.5)\n",
    "plt.xticks(y_pos, x)\n",
    "plt.ylabel('Rounds lost out of 500')\n",
    "plt.title('Scalar = sqrt(2) & Scoring = [-10,0,1]')\n",
    "plt.savefig('Experiment 2-1a')\n",
    "plt.show()"
   ]
  },
  {
   "cell_type": "markdown",
   "metadata": {},
   "source": [
    "### 1b) Scalar = sqrt(2) and Scoring = [-1,0,1]"
   ]
  },
  {
   "cell_type": "code",
   "execution_count": 10,
   "metadata": {},
   "outputs": [
    {
     "data": {
      "image/png": "[encoded data removed]",
      "text/plain": [
       "<Figure size 432x288 with 1 Axes>"
      ]
     },
     "metadata": {
      "needs_background": "light"
     },
     "output_type": "display_data"
    }
   ],
   "source": [
    "scalar = math.sqrt(2.0)\n",
    "scoring = [-1,0,+1]\n",
    "losses = experiment2(scalar, scoring)[0]\n",
    "names = [n for n in losses]\n",
    "x = ['Prob1', 'MCTS1']\n",
    "y_pos = np.arange(len(x))\n",
    "performance = []\n",
    "for i in names:\n",
    "    performance.append(losses[i])\n",
    "plt.bar(y_pos, performance, align='center', alpha=0.5)\n",
    "plt.xticks(y_pos, x)\n",
    "plt.ylabel('Rounds lost out of 500')\n",
    "plt.title('Scalar = sqrt(2) & Scoring = [-1,0,1]')\n",
    "plt.savefig('Experiment 2-1b')\n",
    "plt.show()"
   ]
  },
  {
   "cell_type": "markdown",
   "metadata": {},
   "source": [
    "### 1c) Scalar = sqrt(2) and Scoring = [-1,0,0]"
   ]
  },
  {
   "cell_type": "code",
   "execution_count": 11,
   "metadata": {},
   "outputs": [
    {
     "data": {
      "image/png": "[encoded data removed]",
      "text/plain": [
       "<Figure size 432x288 with 1 Axes>"
      ]
     },
     "metadata": {
      "needs_background": "light"
     },
     "output_type": "display_data"
    }
   ],
   "source": [
    "scalar = math.sqrt(2.0)\n",
    "scoring = [-1,0,0]\n",
    "losses= experiment2(scalar, scoring)[0]\n",
    "names = [n for n in losses]\n",
    "x = ['Prob1', 'MCTS1']\n",
    "y_pos = np.arange(len(x))\n",
    "performance = []\n",
    "for i in names:\n",
    "    performance.append(losses[i])\n",
    "plt.bar(y_pos, performance, align='center', alpha=0.5)\n",
    "plt.xticks(y_pos, x)\n",
    "plt.ylabel('Rounds lost out of 500')\n",
    "plt.title('Scalar = sqrt(2) & Scoring [-1,0,0]')\n",
    "plt.savefig('Experiment 2-1c')\n",
    "plt.show()"
   ]
  },
  {
   "cell_type": "markdown",
   "metadata": {},
   "source": [
    "### 1d) Scalar = 2 and Scoring = [-1,0,1]"
   ]
  },
  {
   "cell_type": "code",
   "execution_count": 12,
   "metadata": {},
   "outputs": [
    {
     "data": {
      "image/png": "[encoded data removed]",
      "text/plain": [
       "<Figure size 432x288 with 1 Axes>"
      ]
     },
     "metadata": {
      "needs_background": "light"
     },
     "output_type": "display_data"
    }
   ],
   "source": [
    "scalar = 2\n",
    "scoring = [-1,0,1]\n",
    "losses= experiment2(scalar, scoring)[0]\n",
    "names = [n for n in losses]\n",
    "x = ['Prob1', 'MCTS1']\n",
    "y_pos = np.arange(len(x))\n",
    "performance = []\n",
    "for i in names:\n",
    "    performance.append(losses[i])\n",
    "plt.bar(y_pos, performance, align='center', alpha=0.5)\n",
    "plt.xticks(y_pos, x)\n",
    "plt.ylabel('Rounds lost out of 500')\n",
    "plt.title('Scalar = 2 & Scoring [-1, 0, 1]')\n",
    "plt.savefig('Experiment 2-1d')\n",
    "plt.show()"
   ]
  },
  {
   "cell_type": "markdown",
   "metadata": {},
   "source": [
    "### 1e) Scalar = 2 and Scoring = [-1, 0 , 0]"
   ]
  },
  {
   "cell_type": "code",
   "execution_count": 13,
   "metadata": {},
   "outputs": [
    {
     "data": {
      "image/png": "[encoded data removed]",
      "text/plain": [
       "<Figure size 432x288 with 1 Axes>"
      ]
     },
     "metadata": {
      "needs_background": "light"
     },
     "output_type": "display_data"
    }
   ],
   "source": [
    "scalar = 2\n",
    "scoring = [-1,0,0]\n",
    "losses = experiment2(scalar, scoring)[0]\n",
    "names = [n for n in losses]\n",
    "x = ['Prob1', 'MCTS1']\n",
    "y_pos = np.arange(len(x))\n",
    "performance = []\n",
    "for i in names:\n",
    "    performance.append(losses[i])\n",
    "plt.bar(y_pos, performance, align='center', alpha=0.5)\n",
    "plt.xticks(y_pos, x)\n",
    "plt.ylabel('Rounds lost out of 500')\n",
    "plt.title('Scalar = 2 & Scoring [-1, 0, 0]')\n",
    "plt.savefig('Experiment 2-1e')\n",
    "plt.show()"
   ]
  },
  {
   "cell_type": "markdown",
   "metadata": {},
   "source": [
    "### 1f) Scalar = 2 and Scoring = [-10,0,1]"
   ]
  },
  {
   "cell_type": "code",
   "execution_count": 14,
   "metadata": {},
   "outputs": [
    {
     "data": {
      "image/png": "[encoded data removed]",
      "text/plain": [
       "<Figure size 432x288 with 1 Axes>"
      ]
     },
     "metadata": {
      "needs_background": "light"
     },
     "output_type": "display_data"
    }
   ],
   "source": [
    "scalar = 2\n",
    "scoring = [-10,0,1]\n",
    "losses = experiment2(scalar, scoring)[0]\n",
    "names = [n for n in losses]\n",
    "x = ['Prob1', 'MCTS1']\n",
    "y_pos = np.arange(len(x))\n",
    "performance = []\n",
    "for i in names:\n",
    "    performance.append(losses[i])\n",
    "plt.bar(y_pos, performance, align='center', alpha=0.5)\n",
    "plt.xticks(y_pos, x)\n",
    "plt.ylabel('Rounds lost out of 500')\n",
    "plt.title('Scalar = 2 & Scoring [-10, 0, 1]')\n",
    "plt.savefig('Experiment 2-1f')\n",
    "plt.show()"
   ]
  },
  {
   "cell_type": "markdown",
   "metadata": {},
   "source": [
    "## 2) Random Rollouts "
   ]
  },
  {
   "cell_type": "markdown",
   "metadata": {},
   "source": [
    "### 2.1) 5 Opponent Dice\n",
    "#### 1000 Rollouts"
   ]
  },
  {
   "cell_type": "code",
   "execution_count": null,
   "metadata": {},
   "outputs": [],
   "source": [
    "scalar = 2\n",
    "scoring = [-1,0,0]\n",
    "losses, time_ = experiment2(scalar, scoring, rollouts=1000, Players = 2, round_no = 250)\n",
    "names = [n for n in losses]\n",
    "x = ['Prob1', 'MCTS1']\n",
    "y_pos = np.arange(len(x))\n",
    "performance = []\n",
    "for i in names:\n",
    "    performance.append(losses[i])\n",
    "plt.bar(y_pos, performance, align='center', alpha=0.5)\n",
    "plt.xticks(y_pos, x)\n",
    "plt.ylabel('Rounds lost out of 250')\n",
    "plt.title('1000 Rollouts')\n",
    "plt.savefig('Experiment 2-2x')\n",
    "plt.show()"
   ]
  },
  {
   "cell_type": "code",
   "execution_count": 42,
   "metadata": {},
   "outputs": [
    {
     "name": "stdout",
     "output_type": "stream",
     "text": [
      "time:  283.8419699668884\n"
     ]
    }
   ],
   "source": [
    "print ('time: ', time_)"
   ]
  },
  {
   "cell_type": "markdown",
   "metadata": {},
   "source": [
    "#### 350 Rollouts"
   ]
  },
  {
   "cell_type": "code",
   "execution_count": 32,
   "metadata": {},
   "outputs": [
    {
     "data": {
      "image/png": "[encoded data removed]",
      "text/plain": [
       "<Figure size 432x288 with 1 Axes>"
      ]
     },
     "metadata": {
      "needs_background": "light"
     },
     "output_type": "display_data"
    }
   ],
   "source": [
    "scalar = 2\n",
    "scoring = [-1,0,0]\n",
    "losses, time_ = experiment2(scalar, scoring, rollouts=350, Players = 2, round_no = 250)\n",
    "names = [n for n in losses]\n",
    "x = ['Prob1', 'MCTS1']\n",
    "y_pos = np.arange(len(x))\n",
    "performance = []\n",
    "for i in names:\n",
    "    performance.append(losses[i])\n",
    "plt.bar(y_pos, performance, align='center', alpha=0.5)\n",
    "plt.xticks(y_pos, x)\n",
    "plt.ylabel('Rounds lost out of 250')\n",
    "plt.title('350 Rollouts')\n",
    "plt.savefig('Experiment 2-2a')\n",
    "plt.show()"
   ]
  },
  {
   "cell_type": "code",
   "execution_count": 33,
   "metadata": {},
   "outputs": [
    {
     "name": "stdout",
     "output_type": "stream",
     "text": [
      "time:  106.9066858291626\n"
     ]
    }
   ],
   "source": [
    "print ('time: ', time_)"
   ]
  },
  {
   "cell_type": "markdown",
   "metadata": {},
   "source": [
    "#### 252 Rollouts"
   ]
  },
  {
   "cell_type": "code",
   "execution_count": 34,
   "metadata": {},
   "outputs": [
    {
     "data": {
      "image/png": "[encoded data removed]",
      "text/plain": [
       "<Figure size 432x288 with 1 Axes>"
      ]
     },
     "metadata": {
      "needs_background": "light"
     },
     "output_type": "display_data"
    }
   ],
   "source": [
    "scalar = 2\n",
    "scoring = [-1,0,0]\n",
    "losses, time_ = experiment2(scalar, scoring, rollouts=252, Players = 2, round_no = 250)\n",
    "names = [n for n in losses]\n",
    "x = ['Prob1', 'MCTS1']\n",
    "y_pos = np.arange(len(x))\n",
    "performance = []\n",
    "for i in names:\n",
    "    performance.append(losses[i])\n",
    "plt.bar(y_pos, performance, align='center', alpha=0.5)\n",
    "plt.xticks(y_pos, x)\n",
    "plt.ylabel('Rounds lost out of 250')\n",
    "plt.title('252 Rollouts')\n",
    "plt.savefig('Experiment 2-2b')\n",
    "plt.show()"
   ]
  },
  {
   "cell_type": "code",
   "execution_count": 35,
   "metadata": {},
   "outputs": [
    {
     "name": "stdout",
     "output_type": "stream",
     "text": [
      "time:  76.02716660499573\n"
     ]
    }
   ],
   "source": [
    "print ('time: ', time_)"
   ]
  },
  {
   "cell_type": "markdown",
   "metadata": {},
   "source": [
    "#### 100 Rollouts"
   ]
  },
  {
   "cell_type": "code",
   "execution_count": 37,
   "metadata": {},
   "outputs": [
    {
     "data": {
      "image/png": "[encoded data removed]",
      "text/plain": [
       "<Figure size 432x288 with 1 Axes>"
      ]
     },
     "metadata": {
      "needs_background": "light"
     },
     "output_type": "display_data"
    }
   ],
   "source": [
    "scalar = 2\n",
    "scoring = [-1,0,0]\n",
    "losses, time_ = experiment2(scalar, scoring, rollouts=100, Players = 2, round_no = 250)\n",
    "names = [n for n in losses]\n",
    "x = ['Prob1', 'MCTS1']\n",
    "y_pos = np.arange(len(x))\n",
    "performance = []\n",
    "for i in names:\n",
    "    performance.append(losses[i])\n",
    "plt.bar(y_pos, performance, align='center', alpha=0.5)\n",
    "plt.xticks(y_pos, x)\n",
    "plt.ylabel('Rounds lost out of 250')\n",
    "plt.title('100 Rollouts')\n",
    "plt.savefig('Experiment 2-2c')\n",
    "plt.show()"
   ]
  },
  {
   "cell_type": "code",
   "execution_count": 38,
   "metadata": {},
   "outputs": [
    {
     "name": "stdout",
     "output_type": "stream",
     "text": [
      "time:  33.66860628128052\n"
     ]
    }
   ],
   "source": [
    "print ('time: ', time_)"
   ]
  },
  {
   "cell_type": "markdown",
   "metadata": {},
   "source": [
    "### 2.2) More Opponent Dice"
   ]
  },
  {
   "cell_type": "markdown",
   "metadata": {},
   "source": [
    "#### Smart Rollouts - 10 Opponents dice"
   ]
  },
  {
   "cell_type": "code",
   "execution_count": 61,
   "metadata": {},
   "outputs": [
    {
     "data": {
      "image/png": "[encoded data removed]",
      "text/plain": [
       "<Figure size 432x288 with 1 Axes>"
      ]
     },
     "metadata": {
      "needs_background": "light"
     },
     "output_type": "display_data"
    }
   ],
   "source": [
    "scalar = 2\n",
    "scoring = [-1,0,0]\n",
    "losses, time_ = experiment2(scalar, scoring, rollouts= 0, Players = 3, round_no = 250, \n",
    "                            smart_rollouts = True)\n",
    "names = [n for n in losses]\n",
    "x = ['Prob1', 'MCTS1', 'Prob2']\n",
    "y_pos = np.arange(len(x))\n",
    "performance = []\n",
    "for i in names:\n",
    "    performance.append(losses[i])\n",
    "plt.bar(y_pos, performance, align='center', alpha=0.5)\n",
    "plt.xticks(y_pos, x)\n",
    "plt.ylabel('Rounds lost out of 250')\n",
    "plt.title('Smart Rollouts')\n",
    "plt.savefig('Experiment 2-2d') \n",
    "plt.show()"
   ]
  },
  {
   "cell_type": "code",
   "execution_count": 62,
   "metadata": {},
   "outputs": [
    {
     "name": "stdout",
     "output_type": "stream",
     "text": [
      "time:  710.1302564144135\n"
     ]
    }
   ],
   "source": [
    "print('time: ', time_)"
   ]
  },
  {
   "cell_type": "markdown",
   "metadata": {},
   "source": [
    "## 3) Observer Agent Rollouts"
   ]
  },
  {
   "cell_type": "markdown",
   "metadata": {},
   "source": [
    "### 3.1) Probabilistic Opponent\n",
    "#### 252 Rollouts"
   ]
  },
  {
   "cell_type": "code",
   "execution_count": 88,
   "metadata": {},
   "outputs": [
    {
     "name": "stderr",
     "output_type": "stream",
     "text": [
      "C:\\Users\\anahg\\anaconda3\\lib\\site-packages\\ipykernel_launcher.py:48: FutureWarning: elementwise comparison failed; returning scalar instead, but in the future will perform elementwise comparison\n"
     ]
    },
    {
     "data": {
      "image/png": "[encoded data removed]",
      "text/plain": [
       "<Figure size 432x288 with 1 Axes>"
      ]
     },
     "metadata": {
      "needs_background": "light"
     },
     "output_type": "display_data"
    }
   ],
   "source": [
    "scalar = 2\n",
    "scoring = [-1,0,0]\n",
    "losses, time_ = experiment2(scalar, scoring, rollouts=252, Players =2, \n",
    "                            Random = False,round_no = 250)\n",
    "names = [n for n in losses]\n",
    "x = ['Prob1', 'MCTS1']\n",
    "y_pos = np.arange(len(x))\n",
    "performance = []\n",
    "for i in names:\n",
    "    performance.append(losses[i])\n",
    "plt.bar(y_pos, performance, align='center', alpha=0.5)\n",
    "plt.xticks(y_pos, x)\n",
    "plt.ylabel('Rounds lost out of 250')\n",
    "plt.title('252 Rollouts')\n",
    "plt.savefig('Experiment 2-3a')\n",
    "plt.show()"
   ]
  },
  {
   "cell_type": "code",
   "execution_count": 89,
   "metadata": {},
   "outputs": [
    {
     "name": "stdout",
     "output_type": "stream",
     "text": [
      "time:  96.7455792427063\n"
     ]
    }
   ],
   "source": [
    "print ('time: ', time_)"
   ]
  },
  {
   "cell_type": "markdown",
   "metadata": {},
   "source": [
    "#### 350 Rollouts"
   ]
  },
  {
   "cell_type": "code",
   "execution_count": 90,
   "metadata": {},
   "outputs": [
    {
     "name": "stderr",
     "output_type": "stream",
     "text": [
      "C:\\Users\\anahg\\anaconda3\\lib\\site-packages\\ipykernel_launcher.py:48: FutureWarning: elementwise comparison failed; returning scalar instead, but in the future will perform elementwise comparison\n"
     ]
    },
    {
     "data": {
      "image/png": "[encoded data removed]",
      "text/plain": [
       "<Figure size 432x288 with 1 Axes>"
      ]
     },
     "metadata": {
      "needs_background": "light"
     },
     "output_type": "display_data"
    }
   ],
   "source": [
    "scalar = 2\n",
    "scoring = [-1,0,0]\n",
    "losses, time_ = experiment2(scalar, scoring, rollouts=350, Players = 2, \n",
    "                            Random = False,round_no = 250)\n",
    "names = [n for n in losses]\n",
    "x = ['Prob1', 'MCTS1']\n",
    "y_pos = np.arange(len(x))\n",
    "performance = []\n",
    "for i in names:\n",
    "    performance.append(losses[i])\n",
    "plt.bar(y_pos, performance, align='center', alpha=0.5)\n",
    "plt.xticks(y_pos, x)\n",
    "plt.ylabel('Rounds lost out of 250')\n",
    "plt.title('350 Rollouts')\n",
    "plt.savefig('Experiment 2-3b')\n",
    "plt.show()"
   ]
  },
  {
   "cell_type": "code",
   "execution_count": 91,
   "metadata": {},
   "outputs": [
    {
     "name": "stdout",
     "output_type": "stream",
     "text": [
      "time: 135.79578399658203\n"
     ]
    }
   ],
   "source": [
    "print ('time:', time_)"
   ]
  },
  {
   "cell_type": "markdown",
   "metadata": {},
   "source": [
    "#### 1000 Rollouts"
   ]
  },
  {
   "cell_type": "code",
   "execution_count": 92,
   "metadata": {},
   "outputs": [
    {
     "name": "stderr",
     "output_type": "stream",
     "text": [
      "C:\\Users\\anahg\\anaconda3\\lib\\site-packages\\ipykernel_launcher.py:48: FutureWarning: elementwise comparison failed; returning scalar instead, but in the future will perform elementwise comparison\n"
     ]
    },
    {
     "data": {
      "image/png": "[encoded data removed]",
      "text/plain": [
       "<Figure size 432x288 with 1 Axes>"
      ]
     },
     "metadata": {
      "needs_background": "light"
     },
     "output_type": "display_data"
    }
   ],
   "source": [
    "scalar = 2\n",
    "scoring = [-1,0,0]\n",
    "losses, time_ = experiment2(scalar, scoring, rollouts=1000, Players = 2, \n",
    "                            Random = False,round_no = 250)\n",
    "names = [n for n in losses]\n",
    "x = ['Prob1', 'MCTS1']\n",
    "y_pos = np.arange(len(x))\n",
    "performance = []\n",
    "for i in names:\n",
    "    performance.append(losses[i])\n",
    "plt.bar(y_pos, performance, align='center', alpha=0.5)\n",
    "plt.xticks(y_pos, x)\n",
    "plt.ylabel('Rounds lost out of 250')\n",
    "plt.title('1000 Rollouts')\n",
    "plt.savefig('Experiment 2-3c')\n",
    "plt.show()"
   ]
  },
  {
   "cell_type": "code",
   "execution_count": 93,
   "metadata": {},
   "outputs": [
    {
     "name": "stdout",
     "output_type": "stream",
     "text": [
      "time:  446.10226941108704\n"
     ]
    }
   ],
   "source": [
    "print ('time: ', time_)"
   ]
  },
  {
   "cell_type": "markdown",
   "metadata": {},
   "source": [
    "#### 100 Rollouts"
   ]
  },
  {
   "cell_type": "code",
   "execution_count": 94,
   "metadata": {},
   "outputs": [
    {
     "name": "stderr",
     "output_type": "stream",
     "text": [
      "C:\\Users\\anahg\\anaconda3\\lib\\site-packages\\ipykernel_launcher.py:48: FutureWarning: elementwise comparison failed; returning scalar instead, but in the future will perform elementwise comparison\n"
     ]
    },
    {
     "data": {
      "image/png": "[encoded data removed]",
      "text/plain": [
       "<Figure size 432x288 with 1 Axes>"
      ]
     },
     "metadata": {
      "needs_background": "light"
     },
     "output_type": "display_data"
    }
   ],
   "source": [
    "scalar = 2\n",
    "scoring = [-1,0,0]\n",
    "losses, time_ = experiment2(scalar, scoring, rollouts=100, Players = 2, \n",
    "                            Random = False,round_no = 250)\n",
    "names = [n for n in losses]\n",
    "x = ['Prob1', 'MCTS1']\n",
    "y_pos = np.arange(len(x))\n",
    "performance = []\n",
    "for i in names:\n",
    "    performance.append(losses[i])\n",
    "plt.bar(y_pos, performance, align='center', alpha=0.5)\n",
    "plt.xticks(y_pos, x)\n",
    "plt.ylabel('Rounds lost out of 250')\n",
    "plt.title('100 Rollouts')\n",
    "plt.savefig('Experiment 2-3d')\n",
    "plt.show()"
   ]
  },
  {
   "cell_type": "code",
   "execution_count": 95,
   "metadata": {},
   "outputs": [
    {
     "name": "stdout",
     "output_type": "stream",
     "text": [
      "time:  38.10042977333069\n"
     ]
    }
   ],
   "source": [
    "print ('time: ', time_)"
   ]
  },
  {
   "cell_type": "markdown",
   "metadata": {},
   "source": [
    "### 3.2) Observer Agent Opponent"
   ]
  },
  {
   "cell_type": "code",
   "execution_count": 102,
   "metadata": {},
   "outputs": [
    {
     "name": "stderr",
     "output_type": "stream",
     "text": [
      "C:\\Users\\anahg\\anaconda3\\lib\\site-packages\\ipykernel_launcher.py:48: FutureWarning: elementwise comparison failed; returning scalar instead, but in the future will perform elementwise comparison\n"
     ]
    },
    {
     "data": {
      "image/png": "[encoded data removed]",
      "text/plain": [
       "<Figure size 432x288 with 1 Axes>"
      ]
     },
     "metadata": {
      "needs_background": "light"
     },
     "output_type": "display_data"
    }
   ],
   "source": [
    "scalar = 2\n",
    "scoring = [-1,0,0]\n",
    "losses, time_ = experiment2(scalar, scoring, rollouts=252, Players =2, \n",
    "                            Random = False,round_no = 250, prob_opponent = False)\n",
    "names = [n for n in losses]\n",
    "x = ['Observer1', 'MCTS1']\n",
    "y_pos = np.arange(len(x))\n",
    "performance = []\n",
    "for i in names:\n",
    "    performance.append(losses[i])\n",
    "plt.bar(y_pos, performance, align='center', alpha=0.5)\n",
    "plt.xticks(y_pos, x)\n",
    "plt.ylabel('Rounds lost out of 250')\n",
    "plt.title('252 Rollouts')\n",
    "plt.savefig('Experiment 2-32a')\n",
    "plt.show()"
   ]
  },
  {
   "cell_type": "code",
   "execution_count": 103,
   "metadata": {},
   "outputs": [
    {
     "name": "stdout",
     "output_type": "stream",
     "text": [
      "time:  122.61127662658691\n"
     ]
    }
   ],
   "source": [
    "print ('time: ', time_)"
   ]
  },
  {
   "cell_type": "markdown",
   "metadata": {},
   "source": [
    "#### 350 Rollouts"
   ]
  },
  {
   "cell_type": "code",
   "execution_count": 104,
   "metadata": {},
   "outputs": [
    {
     "name": "stderr",
     "output_type": "stream",
     "text": [
      "C:\\Users\\anahg\\anaconda3\\lib\\site-packages\\ipykernel_launcher.py:48: FutureWarning: elementwise comparison failed; returning scalar instead, but in the future will perform elementwise comparison\n"
     ]
    },
    {
     "data": {
      "image/png": "[encoded data removed]",
      "text/plain": [
       "<Figure size 432x288 with 1 Axes>"
      ]
     },
     "metadata": {
      "needs_background": "light"
     },
     "output_type": "display_data"
    }
   ],
   "source": [
    "scalar = 2\n",
    "scoring = [-1,0,0]\n",
    "losses, time_ = experiment2(scalar, scoring, rollouts=350, Players = 2, \n",
    "                            Random = False,round_no = 250, prob_opponent =False)\n",
    "names = [n for n in losses]\n",
    "x = ['Observer1', 'MCTS1']\n",
    "y_pos = np.arange(len(x))\n",
    "performance = []\n",
    "for i in names:\n",
    "    performance.append(losses[i])\n",
    "plt.bar(y_pos, performance, align='center', alpha=0.5)\n",
    "plt.xticks(y_pos, x)\n",
    "plt.ylabel('Rounds lost out of 250')\n",
    "plt.title('350 Rollouts')\n",
    "plt.savefig('Experiment 2-32b')\n",
    "plt.show()"
   ]
  },
  {
   "cell_type": "code",
   "execution_count": 105,
   "metadata": {},
   "outputs": [
    {
     "name": "stdout",
     "output_type": "stream",
     "text": [
      "time: 172.15854597091675\n"
     ]
    }
   ],
   "source": [
    "print ('time:', time_)"
   ]
  },
  {
   "cell_type": "markdown",
   "metadata": {},
   "source": [
    "#### 1000 Rollouts"
   ]
  },
  {
   "cell_type": "code",
   "execution_count": 106,
   "metadata": {},
   "outputs": [
    {
     "name": "stderr",
     "output_type": "stream",
     "text": [
      "C:\\Users\\anahg\\anaconda3\\lib\\site-packages\\ipykernel_launcher.py:48: FutureWarning: elementwise comparison failed; returning scalar instead, but in the future will perform elementwise comparison\n"
     ]
    },
    {
     "data": {
      "image/png": "[encoded data removed]",
      "text/plain": [
       "<Figure size 432x288 with 1 Axes>"
      ]
     },
     "metadata": {
      "needs_background": "light"
     },
     "output_type": "display_data"
    }
   ],
   "source": [
    "scalar = 2\n",
    "scoring = [-1,0,0]\n",
    "losses, time_ = experiment2(scalar, scoring, rollouts=1000, Players = 2, \n",
    "                            Random = False,round_no = 250, prob_opponent= False)\n",
    "names = [n for n in losses]\n",
    "x = ['Observer1', 'MCTS1']\n",
    "y_pos = np.arange(len(x))\n",
    "performance = []\n",
    "for i in names:\n",
    "    performance.append(losses[i])\n",
    "plt.bar(y_pos, performance, align='center', alpha=0.5)\n",
    "plt.xticks(y_pos, x)\n",
    "plt.ylabel('Rounds lost out of 250')\n",
    "plt.title('1000 Rollouts')\n",
    "plt.savefig('Experiment 2-32c')\n",
    "plt.show()"
   ]
  },
  {
   "cell_type": "code",
   "execution_count": 107,
   "metadata": {},
   "outputs": [
    {
     "name": "stdout",
     "output_type": "stream",
     "text": [
      "time:  454.35762429237366\n"
     ]
    }
   ],
   "source": [
    "print ('time: ', time_)"
   ]
  },
  {
   "cell_type": "markdown",
   "metadata": {},
   "source": [
    "#### 100 Rollouts"
   ]
  },
  {
   "cell_type": "code",
   "execution_count": 108,
   "metadata": {},
   "outputs": [
    {
     "name": "stderr",
     "output_type": "stream",
     "text": [
      "C:\\Users\\anahg\\anaconda3\\lib\\site-packages\\ipykernel_launcher.py:48: FutureWarning: elementwise comparison failed; returning scalar instead, but in the future will perform elementwise comparison\n"
     ]
    },
    {
     "data": {
      "image/png": "[encoded data removed]",
      "text/plain": [
       "<Figure size 432x288 with 1 Axes>"
      ]
     },
     "metadata": {
      "needs_background": "light"
     },
     "output_type": "display_data"
    }
   ],
   "source": [
    "scalar = 2\n",
    "scoring = [-1,0,0]\n",
    "losses, time_ = experiment2(scalar, scoring, rollouts=100, Players = 2, \n",
    "                            Random = False,round_no = 250, prob_opponent = False)\n",
    "names = [n for n in losses]\n",
    "x = ['Observer1', 'MCTS1']\n",
    "y_pos = np.arange(len(x))\n",
    "performance = []\n",
    "for i in names:\n",
    "    performance.append(losses[i])\n",
    "plt.bar(y_pos, performance, align='center', alpha=0.5)\n",
    "plt.xticks(y_pos, x)\n",
    "plt.ylabel('Rounds lost out of 250')\n",
    "plt.title('100 Rollouts')\n",
    "plt.savefig('Experiment 2-32d')\n",
    "plt.show()"
   ]
  },
  {
   "cell_type": "code",
   "execution_count": 109,
   "metadata": {},
   "outputs": [
    {
     "name": "stdout",
     "output_type": "stream",
     "text": [
      "time:  37.60023307800293\n"
     ]
    }
   ],
   "source": [
    "print ('time: ', time_)"
   ]
  },
  {
   "cell_type": "markdown",
   "metadata": {},
   "source": [
    "### 3.3) 2000 Rollouts"
   ]
  },
  {
   "cell_type": "code",
   "execution_count": 100,
   "metadata": {},
   "outputs": [
    {
     "name": "stderr",
     "output_type": "stream",
     "text": [
      "C:\\Users\\anahg\\anaconda3\\lib\\site-packages\\ipykernel_launcher.py:48: FutureWarning: elementwise comparison failed; returning scalar instead, but in the future will perform elementwise comparison\n"
     ]
    },
    {
     "data": {
      "image/png": "[encoded data removed]",
      "text/plain": [
       "<Figure size 432x288 with 1 Axes>"
      ]
     },
     "metadata": {
      "needs_background": "light"
     },
     "output_type": "display_data"
    }
   ],
   "source": [
    "scalar = 2\n",
    "scoring = [-1,0,0]\n",
    "losses, time_ = experiment2(scalar, scoring, rollouts=2000, Players = 2, \n",
    "                            Random = False,round_no = 250)\n",
    "names = [n for n in losses]\n",
    "x = ['Prob1', 'MCTS1']\n",
    "y_pos = np.arange(len(x))\n",
    "performance = []\n",
    "for i in names:\n",
    "    performance.append(losses[i])\n",
    "plt.bar(y_pos, performance, align='center', alpha=0.5)\n",
    "plt.xticks(y_pos, x)\n",
    "plt.ylabel('Rounds lost out of 250')\n",
    "plt.title('2000 Rollouts')\n",
    "plt.savefig('Experiment 2-3e')\n",
    "plt.show()"
   ]
  },
  {
   "cell_type": "code",
   "execution_count": 101,
   "metadata": {},
   "outputs": [
    {
     "name": "stdout",
     "output_type": "stream",
     "text": [
      "time:  1166.2536823749542\n"
     ]
    }
   ],
   "source": [
    "print ('time: ', time_ )"
   ]
  }
 ],
 "metadata": {
  "kernelspec": {
   "display_name": "Python 3",
   "language": "python",
   "name": "python3"
  },
  "language_info": {
   "codemirror_mode": {
    "name": "ipython",
    "version": 3
   },
   "file_extension": ".py",
   "mimetype": "text/x-python",
   "name": "python",
   "nbconvert_exporter": "python",
   "pygments_lexer": "ipython3",
   "version": "3.7.6"
  }
 },
 "nbformat": 4,
 "nbformat_minor": 4
}
