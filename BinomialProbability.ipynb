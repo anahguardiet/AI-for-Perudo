{
 "cells": [
  {
   "cell_type": "code",
   "execution_count": 1,
   "metadata": {},
   "outputs": [],
   "source": [
    "import math\n",
    "\n",
    "def binom_prob(total_dice, bid_quant, ace = False, cummulative = True):\n",
    "    opposite_prob = 0\n",
    "    if bid_quant > total_dice:\n",
    "        return 0\n",
    "    if cummulative == True: #Dudo\n",
    "        for k in range(0, bid_quant): #the last value of bid quant SHOULDNT be included\n",
    "            #The opposite probability formula is strictly smaller than, therefore the last value should be k-1 !!\n",
    "            factorials = (math.factorial(total_dice))/((math.factorial(k)) * (math.factorial(total_dice - k)))\n",
    "            if ace == True: \n",
    "                prob_success = (1/6)**k\n",
    "                prob_failure = (5/6)**(total_dice - k)\n",
    "            if ace == False:\n",
    "                prob_success = (2/6)**k\n",
    "                prob_failure = (4/6)**(total_dice - k)\n",
    "            opposite_prob += (factorials*prob_success*prob_failure)\n",
    "        prob = 1 - opposite_prob\n",
    "    elif cummulative == False: #Calza\n",
    "        factorials = (math.factorial(total_dice))/((math.factorial(bid_quant)) * (math.factorial(total_dice - bid_quant)))\n",
    "        if ace == True: \n",
    "            prob_success = (1/6)**bid_quant\n",
    "            prob_failure = (5/6)**(total_dice - bid_quant)\n",
    "        if ace == False:\n",
    "            prob_success = (2/6)**bid_quant\n",
    "            prob_failure = (4/6)**(total_dice - bid_quant)\n",
    "        prob = (factorials*prob_success*prob_failure)   \n",
    "    return (prob)    "
   ]
  }
 ],
 "metadata": {
  "kernelspec": {
   "display_name": "Python 3",
   "language": "python",
   "name": "python3"
  },
  "language_info": {
   "codemirror_mode": {
    "name": "ipython",
    "version": 3
   },
   "file_extension": ".py",
   "mimetype": "text/x-python",
   "name": "python",
   "nbconvert_exporter": "python",
   "pygments_lexer": "ipython3",
   "version": "3.7.6"
  }
 },
 "nbformat": 4,
 "nbformat_minor": 4
}
